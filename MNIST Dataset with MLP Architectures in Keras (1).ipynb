{
 "cells": [
  {
   "cell_type": "code",
   "execution_count": 0,
   "metadata": {
    "colab": {},
    "colab_type": "code",
    "id": "iwvwqBX3bAIu"
   },
   "outputs": [],
   "source": [
    " \n",
    "from keras.datasets import mnist \n",
    "import seaborn as sns\n",
    "from keras.initializers import RandomNormal\n",
    "import matplotlib.pyplot as plt\n",
    "import numpy as np\n",
    "import time"
   ]
  },
  {
   "cell_type": "code",
   "execution_count": 0,
   "metadata": {
    "colab": {},
    "colab_type": "code",
    "id": "q6nSf0QLbHyy"
   },
   "outputs": [],
   "source": [
    "def plt_dynamic(x, vy, ty, ax, colors=['b']):\n",
    "    ax.plot(x, vy, 'b', label=\"Validation Loss\")\n",
    "    ax.plot(x, ty, 'r', label=\"Train Loss\")\n",
    "    plt.legend()\n",
    "    plt.grid()\n",
    "    fig.canvas.draw()"
   ]
  },
  {
   "cell_type": "code",
   "execution_count": 4,
   "metadata": {
    "colab": {
     "base_uri": "https://localhost:8080/",
     "height": 51
    },
    "colab_type": "code",
    "executionInfo": {
     "elapsed": 2203,
     "status": "ok",
     "timestamp": 1546012756238,
     "user": {
      "displayName": "Chitralekha Narkhede",
      "photoUrl": "",
      "userId": "05234124061121081045"
     },
     "user_tz": -330
    },
    "id": "_xc5JE5WbVBL",
    "outputId": "371f6e87-10ba-4f7d-c604-84d3aac6bd32"
   },
   "outputs": [
    {
     "name": "stdout",
     "output_type": "stream",
     "text": [
      "Downloading data from https://s3.amazonaws.com/img-datasets/mnist.npz\n",
      "11493376/11490434 [==============================] - 1s 0us/step\n"
     ]
    }
   ],
   "source": [
    "(X_train, y_train), (X_test, y_test) = mnist.load_data()"
   ]
  },
  {
   "cell_type": "code",
   "execution_count": 0,
   "metadata": {
    "colab": {},
    "colab_type": "code",
    "id": "xltTS7vMbV0y"
   },
   "outputs": [],
   "source": [
    "X_train = X_train.reshape(X_train.shape[0], X_train.shape[1]*X_train.shape[2]) \n",
    "X_test = X_test.reshape(X_test.shape[0], X_test.shape[1]*X_test.shape[2]) "
   ]
  },
  {
   "cell_type": "code",
   "execution_count": 6,
   "metadata": {
    "colab": {
     "base_uri": "https://localhost:8080/",
     "height": 765
    },
    "colab_type": "code",
    "executionInfo": {
     "elapsed": 1001,
     "status": "ok",
     "timestamp": 1546012979632,
     "user": {
      "displayName": "Chitralekha Narkhede",
      "photoUrl": "",
      "userId": "05234124061121081045"
     },
     "user_tz": -330
    },
    "id": "UJoUqvmmjQiC",
    "outputId": "038d5220-6fb9-4f69-efcb-00be1190fd94"
   },
   "outputs": [
    {
     "name": "stdout",
     "output_type": "stream",
     "text": [
      "[  0   0   0   0   0   0   0   0   0   0   0   0   0   0   0   0   0   0\n",
      "   0   0   0   0   0   0   0   0   0   0   0   0   0   0   0   0   0   0\n",
      "   0   0   0   0   0   0   0   0   0   0   0   0   0   0   0   0   0   0\n",
      "   0   0   0   0   0   0   0   0   0   0   0   0   0   0   0   0   0   0\n",
      "   0   0   0   0   0   0   0   0   0   0   0   0   0   0   0   0   0   0\n",
      "   0   0   0   0   0   0   0   0   0   0   0   0   0   0   0   0   0   0\n",
      "   0   0   0   0   0   0   0   0   0   0   0   0   0   0   0   0   0   0\n",
      "   0   0   0   0   0   0   0   0   0   0   0   0   0   0   0   0   0   0\n",
      "   0   0   0   0   0   0   0   0   3  18  18  18 126 136 175  26 166 255\n",
      " 247 127   0   0   0   0   0   0   0   0   0   0   0   0  30  36  94 154\n",
      " 170 253 253 253 253 253 225 172 253 242 195  64   0   0   0   0   0   0\n",
      "   0   0   0   0   0  49 238 253 253 253 253 253 253 253 253 251  93  82\n",
      "  82  56  39   0   0   0   0   0   0   0   0   0   0   0   0  18 219 253\n",
      " 253 253 253 253 198 182 247 241   0   0   0   0   0   0   0   0   0   0\n",
      "   0   0   0   0   0   0   0   0  80 156 107 253 253 205  11   0  43 154\n",
      "   0   0   0   0   0   0   0   0   0   0   0   0   0   0   0   0   0   0\n",
      "   0  14   1 154 253  90   0   0   0   0   0   0   0   0   0   0   0   0\n",
      "   0   0   0   0   0   0   0   0   0   0   0   0   0 139 253 190   2   0\n",
      "   0   0   0   0   0   0   0   0   0   0   0   0   0   0   0   0   0   0\n",
      "   0   0   0   0   0  11 190 253  70   0   0   0   0   0   0   0   0   0\n",
      "   0   0   0   0   0   0   0   0   0   0   0   0   0   0   0   0  35 241\n",
      " 225 160 108   1   0   0   0   0   0   0   0   0   0   0   0   0   0   0\n",
      "   0   0   0   0   0   0   0   0   0  81 240 253 253 119  25   0   0   0\n",
      "   0   0   0   0   0   0   0   0   0   0   0   0   0   0   0   0   0   0\n",
      "   0   0  45 186 253 253 150  27   0   0   0   0   0   0   0   0   0   0\n",
      "   0   0   0   0   0   0   0   0   0   0   0   0   0  16  93 252 253 187\n",
      "   0   0   0   0   0   0   0   0   0   0   0   0   0   0   0   0   0   0\n",
      "   0   0   0   0   0   0   0 249 253 249  64   0   0   0   0   0   0   0\n",
      "   0   0   0   0   0   0   0   0   0   0   0   0   0   0  46 130 183 253\n",
      " 253 207   2   0   0   0   0   0   0   0   0   0   0   0   0   0   0   0\n",
      "   0   0   0   0  39 148 229 253 253 253 250 182   0   0   0   0   0   0\n",
      "   0   0   0   0   0   0   0   0   0   0   0   0  24 114 221 253 253 253\n",
      " 253 201  78   0   0   0   0   0   0   0   0   0   0   0   0   0   0   0\n",
      "   0   0  23  66 213 253 253 253 253 198  81   2   0   0   0   0   0   0\n",
      "   0   0   0   0   0   0   0   0   0   0  18 171 219 253 253 253 253 195\n",
      "  80   9   0   0   0   0   0   0   0   0   0   0   0   0   0   0   0   0\n",
      "  55 172 226 253 253 253 253 244 133  11   0   0   0   0   0   0   0   0\n",
      "   0   0   0   0   0   0   0   0   0   0 136 253 253 253 212 135 132  16\n",
      "   0   0   0   0   0   0   0   0   0   0   0   0   0   0   0   0   0   0\n",
      "   0   0   0   0   0   0   0   0   0   0   0   0   0   0   0   0   0   0\n",
      "   0   0   0   0   0   0   0   0   0   0   0   0   0   0   0   0   0   0\n",
      "   0   0   0   0   0   0   0   0   0   0   0   0   0   0   0   0   0   0\n",
      "   0   0   0   0   0   0   0   0   0   0   0   0   0   0   0   0   0   0\n",
      "   0   0   0   0   0   0   0   0   0   0]\n"
     ]
    }
   ],
   "source": [
    "print(X_train[0])"
   ]
  },
  {
   "cell_type": "code",
   "execution_count": 0,
   "metadata": {
    "colab": {},
    "colab_type": "code",
    "id": "2Bo6t1elje1h"
   },
   "outputs": [],
   "source": [
    "X_train = X_train/255\n",
    "X_test = X_test/255"
   ]
  },
  {
   "cell_type": "code",
   "execution_count": 8,
   "metadata": {
    "colab": {
     "base_uri": "https://localhost:8080/",
     "height": 2244
    },
    "colab_type": "code",
    "executionInfo": {
     "elapsed": 899,
     "status": "ok",
     "timestamp": 1546013043663,
     "user": {
      "displayName": "Chitralekha Narkhede",
      "photoUrl": "",
      "userId": "05234124061121081045"
     },
     "user_tz": -330
    },
    "id": "hHaUvy_Qjq3H",
    "outputId": "a5557406-2370-4eab-cade-c903e458eeba"
   },
   "outputs": [
    {
     "name": "stdout",
     "output_type": "stream",
     "text": [
      "[0.         0.         0.         0.         0.         0.\n",
      " 0.         0.         0.         0.         0.         0.\n",
      " 0.         0.         0.         0.         0.         0.\n",
      " 0.         0.         0.         0.         0.         0.\n",
      " 0.         0.         0.         0.         0.         0.\n",
      " 0.         0.         0.         0.         0.         0.\n",
      " 0.         0.         0.         0.         0.         0.\n",
      " 0.         0.         0.         0.         0.         0.\n",
      " 0.         0.         0.         0.         0.         0.\n",
      " 0.         0.         0.         0.         0.         0.\n",
      " 0.         0.         0.         0.         0.         0.\n",
      " 0.         0.         0.         0.         0.         0.\n",
      " 0.         0.         0.         0.         0.         0.\n",
      " 0.         0.         0.         0.         0.         0.\n",
      " 0.         0.         0.         0.         0.         0.\n",
      " 0.         0.         0.         0.         0.         0.\n",
      " 0.         0.         0.         0.         0.         0.\n",
      " 0.         0.         0.         0.         0.         0.\n",
      " 0.         0.         0.         0.         0.         0.\n",
      " 0.         0.         0.         0.         0.         0.\n",
      " 0.         0.         0.         0.         0.         0.\n",
      " 0.         0.         0.         0.         0.         0.\n",
      " 0.         0.         0.         0.         0.         0.\n",
      " 0.         0.         0.         0.         0.         0.\n",
      " 0.         0.         0.         0.         0.         0.\n",
      " 0.         0.         0.01176471 0.07058824 0.07058824 0.07058824\n",
      " 0.49411765 0.53333333 0.68627451 0.10196078 0.65098039 1.\n",
      " 0.96862745 0.49803922 0.         0.         0.         0.\n",
      " 0.         0.         0.         0.         0.         0.\n",
      " 0.         0.         0.11764706 0.14117647 0.36862745 0.60392157\n",
      " 0.66666667 0.99215686 0.99215686 0.99215686 0.99215686 0.99215686\n",
      " 0.88235294 0.6745098  0.99215686 0.94901961 0.76470588 0.25098039\n",
      " 0.         0.         0.         0.         0.         0.\n",
      " 0.         0.         0.         0.         0.         0.19215686\n",
      " 0.93333333 0.99215686 0.99215686 0.99215686 0.99215686 0.99215686\n",
      " 0.99215686 0.99215686 0.99215686 0.98431373 0.36470588 0.32156863\n",
      " 0.32156863 0.21960784 0.15294118 0.         0.         0.\n",
      " 0.         0.         0.         0.         0.         0.\n",
      " 0.         0.         0.         0.07058824 0.85882353 0.99215686\n",
      " 0.99215686 0.99215686 0.99215686 0.99215686 0.77647059 0.71372549\n",
      " 0.96862745 0.94509804 0.         0.         0.         0.\n",
      " 0.         0.         0.         0.         0.         0.\n",
      " 0.         0.         0.         0.         0.         0.\n",
      " 0.         0.         0.31372549 0.61176471 0.41960784 0.99215686\n",
      " 0.99215686 0.80392157 0.04313725 0.         0.16862745 0.60392157\n",
      " 0.         0.         0.         0.         0.         0.\n",
      " 0.         0.         0.         0.         0.         0.\n",
      " 0.         0.         0.         0.         0.         0.\n",
      " 0.         0.05490196 0.00392157 0.60392157 0.99215686 0.35294118\n",
      " 0.         0.         0.         0.         0.         0.\n",
      " 0.         0.         0.         0.         0.         0.\n",
      " 0.         0.         0.         0.         0.         0.\n",
      " 0.         0.         0.         0.         0.         0.\n",
      " 0.         0.54509804 0.99215686 0.74509804 0.00784314 0.\n",
      " 0.         0.         0.         0.         0.         0.\n",
      " 0.         0.         0.         0.         0.         0.\n",
      " 0.         0.         0.         0.         0.         0.\n",
      " 0.         0.         0.         0.         0.         0.04313725\n",
      " 0.74509804 0.99215686 0.2745098  0.         0.         0.\n",
      " 0.         0.         0.         0.         0.         0.\n",
      " 0.         0.         0.         0.         0.         0.\n",
      " 0.         0.         0.         0.         0.         0.\n",
      " 0.         0.         0.         0.         0.1372549  0.94509804\n",
      " 0.88235294 0.62745098 0.42352941 0.00392157 0.         0.\n",
      " 0.         0.         0.         0.         0.         0.\n",
      " 0.         0.         0.         0.         0.         0.\n",
      " 0.         0.         0.         0.         0.         0.\n",
      " 0.         0.         0.         0.31764706 0.94117647 0.99215686\n",
      " 0.99215686 0.46666667 0.09803922 0.         0.         0.\n",
      " 0.         0.         0.         0.         0.         0.\n",
      " 0.         0.         0.         0.         0.         0.\n",
      " 0.         0.         0.         0.         0.         0.\n",
      " 0.         0.         0.17647059 0.72941176 0.99215686 0.99215686\n",
      " 0.58823529 0.10588235 0.         0.         0.         0.\n",
      " 0.         0.         0.         0.         0.         0.\n",
      " 0.         0.         0.         0.         0.         0.\n",
      " 0.         0.         0.         0.         0.         0.\n",
      " 0.         0.0627451  0.36470588 0.98823529 0.99215686 0.73333333\n",
      " 0.         0.         0.         0.         0.         0.\n",
      " 0.         0.         0.         0.         0.         0.\n",
      " 0.         0.         0.         0.         0.         0.\n",
      " 0.         0.         0.         0.         0.         0.\n",
      " 0.         0.97647059 0.99215686 0.97647059 0.25098039 0.\n",
      " 0.         0.         0.         0.         0.         0.\n",
      " 0.         0.         0.         0.         0.         0.\n",
      " 0.         0.         0.         0.         0.         0.\n",
      " 0.         0.         0.18039216 0.50980392 0.71764706 0.99215686\n",
      " 0.99215686 0.81176471 0.00784314 0.         0.         0.\n",
      " 0.         0.         0.         0.         0.         0.\n",
      " 0.         0.         0.         0.         0.         0.\n",
      " 0.         0.         0.         0.         0.15294118 0.58039216\n",
      " 0.89803922 0.99215686 0.99215686 0.99215686 0.98039216 0.71372549\n",
      " 0.         0.         0.         0.         0.         0.\n",
      " 0.         0.         0.         0.         0.         0.\n",
      " 0.         0.         0.         0.         0.         0.\n",
      " 0.09411765 0.44705882 0.86666667 0.99215686 0.99215686 0.99215686\n",
      " 0.99215686 0.78823529 0.30588235 0.         0.         0.\n",
      " 0.         0.         0.         0.         0.         0.\n",
      " 0.         0.         0.         0.         0.         0.\n",
      " 0.         0.         0.09019608 0.25882353 0.83529412 0.99215686\n",
      " 0.99215686 0.99215686 0.99215686 0.77647059 0.31764706 0.00784314\n",
      " 0.         0.         0.         0.         0.         0.\n",
      " 0.         0.         0.         0.         0.         0.\n",
      " 0.         0.         0.         0.         0.07058824 0.67058824\n",
      " 0.85882353 0.99215686 0.99215686 0.99215686 0.99215686 0.76470588\n",
      " 0.31372549 0.03529412 0.         0.         0.         0.\n",
      " 0.         0.         0.         0.         0.         0.\n",
      " 0.         0.         0.         0.         0.         0.\n",
      " 0.21568627 0.6745098  0.88627451 0.99215686 0.99215686 0.99215686\n",
      " 0.99215686 0.95686275 0.52156863 0.04313725 0.         0.\n",
      " 0.         0.         0.         0.         0.         0.\n",
      " 0.         0.         0.         0.         0.         0.\n",
      " 0.         0.         0.         0.         0.53333333 0.99215686\n",
      " 0.99215686 0.99215686 0.83137255 0.52941176 0.51764706 0.0627451\n",
      " 0.         0.         0.         0.         0.         0.\n",
      " 0.         0.         0.         0.         0.         0.\n",
      " 0.         0.         0.         0.         0.         0.\n",
      " 0.         0.         0.         0.         0.         0.\n",
      " 0.         0.         0.         0.         0.         0.\n",
      " 0.         0.         0.         0.         0.         0.\n",
      " 0.         0.         0.         0.         0.         0.\n",
      " 0.         0.         0.         0.         0.         0.\n",
      " 0.         0.         0.         0.         0.         0.\n",
      " 0.         0.         0.         0.         0.         0.\n",
      " 0.         0.         0.         0.         0.         0.\n",
      " 0.         0.         0.         0.         0.         0.\n",
      " 0.         0.         0.         0.         0.         0.\n",
      " 0.         0.         0.         0.         0.         0.\n",
      " 0.         0.         0.         0.         0.         0.\n",
      " 0.         0.         0.         0.         0.         0.\n",
      " 0.         0.         0.         0.        ]\n"
     ]
    }
   ],
   "source": [
    "print(X_train[0])"
   ]
  },
  {
   "cell_type": "code",
   "execution_count": 9,
   "metadata": {
    "colab": {
     "base_uri": "https://localhost:8080/",
     "height": 34
    },
    "colab_type": "code",
    "executionInfo": {
     "elapsed": 974,
     "status": "ok",
     "timestamp": 1546013232364,
     "user": {
      "displayName": "Chitralekha Narkhede",
      "photoUrl": "",
      "userId": "05234124061121081045"
     },
     "user_tz": -330
    },
    "id": "noDgVTT8jufT",
    "outputId": "c5fa21a8-87d9-43da-e008-5fec5d026c06"
   },
   "outputs": [
    {
     "name": "stdout",
     "output_type": "stream",
     "text": [
      "Class label of first image : 5\n"
     ]
    }
   ],
   "source": [
    "print(\"Class label of first image :\", y_train[0])"
   ]
  },
  {
   "cell_type": "code",
   "execution_count": 11,
   "metadata": {
    "colab": {
     "base_uri": "https://localhost:8080/",
     "height": 34
    },
    "colab_type": "code",
    "executionInfo": {
     "elapsed": 1383,
     "status": "ok",
     "timestamp": 1546015679837,
     "user": {
      "displayName": "Chitralekha Narkhede",
      "photoUrl": "",
      "userId": "05234124061121081045"
     },
     "user_tz": -330
    },
    "id": "tvWPGzKzkcim",
    "outputId": "83987eba-dd87-4ee6-aac2-a8fae03ec1c3"
   },
   "outputs": [
    {
     "name": "stdout",
     "output_type": "stream",
     "text": [
      "After converting the output into a vector :  [0. 0. 0. 0. 0. 1. 0. 0. 0. 0.]\n"
     ]
    }
   ],
   "source": [
    "from keras.utils import np_utils\n",
    "Y_train = np_utils.to_categorical(y_train, 10) \n",
    "Y_test = np_utils.to_categorical(y_test, 10)\n",
    "print(\"After converting the output into a vector : \",Y_train[0])"
   ]
  },
  {
   "cell_type": "code",
   "execution_count": 0,
   "metadata": {
    "colab": {},
    "colab_type": "code",
    "id": "68bTAYopkx1y"
   },
   "outputs": [],
   "source": [
    "from keras.models import Sequential \n",
    "from keras.layers import Dense, Activation \n"
   ]
  },
  {
   "cell_type": "code",
   "execution_count": 0,
   "metadata": {
    "colab": {},
    "colab_type": "code",
    "id": "J2_yEjMKt4wz"
   },
   "outputs": [],
   "source": [
    "\n",
    "output_dim = 10\n",
    "input_dim = X_train.shape[1]\n",
    "\n",
    "batch_size = 128 \n",
    "nb_epoch = 20"
   ]
  },
  {
   "cell_type": "markdown",
   "metadata": {
    "colab_type": "text",
    "id": "qxlfeFZExH77"
   },
   "source": [
    "For (784 - 488 - 256 - 10) Architecture"
   ]
  },
  {
   "cell_type": "code",
   "execution_count": 21,
   "metadata": {
    "colab": {
     "base_uri": "https://localhost:8080/",
     "height": 374
    },
    "colab_type": "code",
    "executionInfo": {
     "elapsed": 1406,
     "status": "ok",
     "timestamp": 1546016869569,
     "user": {
      "displayName": "Chitralekha Narkhede",
      "photoUrl": "",
      "userId": "05234124061121081045"
     },
     "user_tz": -330
    },
    "id": "5Jt4UkWSt7OA",
    "outputId": "73fb8a81-c9df-43a9-b3e6-9f37073caf8d"
   },
   "outputs": [
    {
     "name": "stdout",
     "output_type": "stream",
     "text": [
      "_________________________________________________________________\n",
      "Layer (type)                 Output Shape              Param #   \n",
      "=================================================================\n",
      "dense_7 (Dense)              (None, 488)               383080    \n",
      "_________________________________________________________________\n",
      "batch_normalization_5 (Batch (None, 488)               1952      \n",
      "_________________________________________________________________\n",
      "dropout_5 (Dropout)          (None, 488)               0         \n",
      "_________________________________________________________________\n",
      "dense_8 (Dense)              (None, 256)               125184    \n",
      "_________________________________________________________________\n",
      "batch_normalization_6 (Batch (None, 256)               1024      \n",
      "_________________________________________________________________\n",
      "dropout_6 (Dropout)          (None, 256)               0         \n",
      "_________________________________________________________________\n",
      "dense_9 (Dense)              (None, 10)                2570      \n",
      "=================================================================\n",
      "Total params: 513,810\n",
      "Trainable params: 512,322\n",
      "Non-trainable params: 1,488\n",
      "_________________________________________________________________\n"
     ]
    }
   ],
   "source": [
    "from keras.layers import Dropout\n",
    "from keras.layers.normalization import BatchNormalization\n",
    "\n",
    "model = Sequential()\n",
    "\n",
    "model.add(Dense(488, activation='relu', input_shape=(input_dim,), kernel_initializer=RandomNormal(mean=0.0, stddev=0.039, seed=None)))\n",
    "model.add(BatchNormalization())\n",
    "model.add(Dropout(0.5))\n",
    "\n",
    "model.add(Dense(256, activation='relu', kernel_initializer=RandomNormal(mean=0.0, stddev=0.55, seed=None)) )\n",
    "model.add(BatchNormalization())\n",
    "model.add(Dropout(0.5))\n",
    "\n",
    "model.add(Dense(output_dim, activation='softmax'))\n",
    "\n",
    "\n",
    "model.summary()"
   ]
  },
  {
   "cell_type": "code",
   "execution_count": 22,
   "metadata": {
    "colab": {
     "base_uri": "https://localhost:8080/",
     "height": 714
    },
    "colab_type": "code",
    "executionInfo": {
     "elapsed": 201314,
     "status": "ok",
     "timestamp": 1546017129757,
     "user": {
      "displayName": "Chitralekha Narkhede",
      "photoUrl": "",
      "userId": "05234124061121081045"
     },
     "user_tz": -330
    },
    "id": "szxKvmtiu8pJ",
    "outputId": "8010c4fa-0243-40c0-c546-419f00a4957d"
   },
   "outputs": [
    {
     "name": "stdout",
     "output_type": "stream",
     "text": [
      "Train on 60000 samples, validate on 10000 samples\n",
      "Epoch 1/20\n",
      "60000/60000 [==============================] - 11s 179us/step - loss: 0.4587 - acc: 0.8601 - val_loss: 0.1523 - val_acc: 0.9538\n",
      "Epoch 2/20\n",
      "60000/60000 [==============================] - 10s 163us/step - loss: 0.2336 - acc: 0.9285 - val_loss: 0.1202 - val_acc: 0.9620\n",
      "Epoch 3/20\n",
      "60000/60000 [==============================] - 10s 164us/step - loss: 0.1864 - acc: 0.9437 - val_loss: 0.1012 - val_acc: 0.9686\n",
      "Epoch 4/20\n",
      "60000/60000 [==============================] - 10s 166us/step - loss: 0.1616 - acc: 0.9516 - val_loss: 0.0855 - val_acc: 0.9728\n",
      "Epoch 5/20\n",
      "60000/60000 [==============================] - 10s 165us/step - loss: 0.1467 - acc: 0.9553 - val_loss: 0.0863 - val_acc: 0.9723\n",
      "Epoch 6/20\n",
      "60000/60000 [==============================] - 10s 164us/step - loss: 0.1282 - acc: 0.9610 - val_loss: 0.0823 - val_acc: 0.9739\n",
      "Epoch 7/20\n",
      "60000/60000 [==============================] - 10s 165us/step - loss: 0.1258 - acc: 0.9615 - val_loss: 0.0802 - val_acc: 0.9740\n",
      "Epoch 8/20\n",
      "60000/60000 [==============================] - 10s 165us/step - loss: 0.1143 - acc: 0.9644 - val_loss: 0.0752 - val_acc: 0.9764\n",
      "Epoch 9/20\n",
      "60000/60000 [==============================] - 10s 165us/step - loss: 0.1080 - acc: 0.9660 - val_loss: 0.0709 - val_acc: 0.9780\n",
      "Epoch 10/20\n",
      "60000/60000 [==============================] - 10s 167us/step - loss: 0.1030 - acc: 0.9677 - val_loss: 0.0679 - val_acc: 0.9783\n",
      "Epoch 11/20\n",
      "60000/60000 [==============================] - 10s 167us/step - loss: 0.0971 - acc: 0.9699 - val_loss: 0.0657 - val_acc: 0.9796\n",
      "Epoch 12/20\n",
      "60000/60000 [==============================] - 10s 168us/step - loss: 0.0935 - acc: 0.9713 - val_loss: 0.0674 - val_acc: 0.9804\n",
      "Epoch 13/20\n",
      "60000/60000 [==============================] - 10s 166us/step - loss: 0.0841 - acc: 0.9735 - val_loss: 0.0637 - val_acc: 0.9802\n",
      "Epoch 14/20\n",
      "60000/60000 [==============================] - 10s 166us/step - loss: 0.0854 - acc: 0.9733 - val_loss: 0.0637 - val_acc: 0.9807\n",
      "Epoch 15/20\n",
      "60000/60000 [==============================] - 10s 168us/step - loss: 0.0810 - acc: 0.9746 - val_loss: 0.0652 - val_acc: 0.9819\n",
      "Epoch 16/20\n",
      "60000/60000 [==============================] - 10s 168us/step - loss: 0.0779 - acc: 0.9753 - val_loss: 0.0603 - val_acc: 0.9826\n",
      "Epoch 17/20\n",
      "60000/60000 [==============================] - 10s 166us/step - loss: 0.0762 - acc: 0.9757 - val_loss: 0.0608 - val_acc: 0.9825\n",
      "Epoch 18/20\n",
      "60000/60000 [==============================] - 10s 168us/step - loss: 0.0709 - acc: 0.9774 - val_loss: 0.0603 - val_acc: 0.9830\n",
      "Epoch 19/20\n",
      "60000/60000 [==============================] - 10s 166us/step - loss: 0.0658 - acc: 0.9783 - val_loss: 0.0621 - val_acc: 0.9833\n",
      "Epoch 20/20\n",
      "60000/60000 [==============================] - 10s 166us/step - loss: 0.0681 - acc: 0.9785 - val_loss: 0.0618 - val_acc: 0.9819\n"
     ]
    }
   ],
   "source": [
    "model.compile(optimizer='adam', loss='categorical_crossentropy', metrics=['accuracy'])\n",
    "\n",
    "history = model.fit(X_train, Y_train, batch_size=batch_size, epochs=nb_epoch, verbose=1, validation_data=(X_test, Y_test))"
   ]
  },
  {
   "cell_type": "code",
   "execution_count": 23,
   "metadata": {
    "colab": {
     "base_uri": "https://localhost:8080/",
     "height": 395
    },
    "colab_type": "code",
    "executionInfo": {
     "elapsed": 2035,
     "status": "ok",
     "timestamp": 1546017248755,
     "user": {
      "displayName": "Chitralekha Narkhede",
      "photoUrl": "",
      "userId": "05234124061121081045"
     },
     "user_tz": -330
    },
    "id": "1tYqUB4FvCt7",
    "outputId": "86a87007-2c04-4b70-da73-d941418a271d"
   },
   "outputs": [
    {
     "name": "stdout",
     "output_type": "stream",
     "text": [
      "Test score: 0.0618182118332712\n",
      "Test accuracy: 0.9819\n"
     ]
    },
    {
     "data": {
      "image/png": "[encoded data removed]",
      "text/plain": [
       "<matplotlib.figure.Figure at 0x7f83e3c8cdd8>"
      ]
     },
     "metadata": {
      "tags": []
     },
     "output_type": "display_data"
    }
   ],
   "source": [
    "score = model.evaluate(X_test, Y_test, verbose=0) \n",
    "print('Test score:', score[0]) \n",
    "print('Test accuracy:', score[1])\n",
    "\n",
    "fig,ax = plt.subplots(1,1)\n",
    "ax.set_xlabel('epoch') ; ax.set_ylabel('Categorical Crossentropy Loss')\n",
    "\n",
    "# list of epoch numbers\n",
    "x = list(range(1,nb_epoch+1))\n",
    "vy = history.history['val_loss']\n",
    "ty = history.history['loss']\n",
    "plt_dynamic(x, vy, ty, ax)"
   ]
  },
  {
   "cell_type": "markdown",
   "metadata": {
    "colab_type": "text",
    "id": "qn9e0FnV0BDR"
   },
   "source": [
    "For (784 - 515 - 319 -  127 - 10)  3 hidden layer Architecture"
   ]
  },
  {
   "cell_type": "code",
   "execution_count": 31,
   "metadata": {
    "colab": {
     "base_uri": "https://localhost:8080/",
     "height": 476
    },
    "colab_type": "code",
    "executionInfo": {
     "elapsed": 1136,
     "status": "ok",
     "timestamp": 1546018862252,
     "user": {
      "displayName": "Chitralekha Narkhede",
      "photoUrl": "",
      "userId": "05234124061121081045"
     },
     "user_tz": -330
    },
    "id": "Wp1iUPgqwZ6D",
    "outputId": "fc4853ff-cf50-4819-f6e4-f28d826792e1"
   },
   "outputs": [
    {
     "name": "stdout",
     "output_type": "stream",
     "text": [
      "_________________________________________________________________\n",
      "Layer (type)                 Output Shape              Param #   \n",
      "=================================================================\n",
      "dense_16 (Dense)             (None, 515)               404275    \n",
      "_________________________________________________________________\n",
      "batch_normalization_11 (Batc (None, 515)               2060      \n",
      "_________________________________________________________________\n",
      "dropout_11 (Dropout)         (None, 515)               0         \n",
      "_________________________________________________________________\n",
      "dense_17 (Dense)             (None, 319)               164604    \n",
      "_________________________________________________________________\n",
      "batch_normalization_12 (Batc (None, 319)               1276      \n",
      "_________________________________________________________________\n",
      "dropout_12 (Dropout)         (None, 319)               0         \n",
      "_________________________________________________________________\n",
      "dense_18 (Dense)             (None, 127)               40640     \n",
      "_________________________________________________________________\n",
      "batch_normalization_13 (Batc (None, 127)               508       \n",
      "_________________________________________________________________\n",
      "dropout_13 (Dropout)         (None, 127)               0         \n",
      "_________________________________________________________________\n",
      "dense_19 (Dense)             (None, 10)                1280      \n",
      "=================================================================\n",
      "Total params: 614,643\n",
      "Trainable params: 612,721\n",
      "Non-trainable params: 1,922\n",
      "_________________________________________________________________\n"
     ]
    }
   ],
   "source": [
    "from keras.layers import Dropout\n",
    "from keras.layers.normalization import BatchNormalization\n",
    "\n",
    "model = Sequential()\n",
    "\n",
    "model.add(Dense(515, activation='relu', input_shape=(input_dim,), kernel_initializer=RandomNormal(mean=0.0, stddev=0.039, seed=None)))\n",
    "model.add(BatchNormalization())\n",
    "model.add(Dropout(0.5))\n",
    "\n",
    "model.add(Dense(319, activation='relu', input_shape=(input_dim,), kernel_initializer=RandomNormal(mean=0.0, stddev=0.039, seed=None)))\n",
    "model.add(BatchNormalization())\n",
    "model.add(Dropout(0.5))\n",
    "\n",
    "model.add(Dense(127, activation='relu', kernel_initializer=RandomNormal(mean=0.0, stddev=0.55, seed=None)) )\n",
    "model.add(BatchNormalization())\n",
    "model.add(Dropout(0.5))\n",
    "\n",
    "model.add(Dense(output_dim, activation='softmax'))\n",
    "\n",
    "\n",
    "model.summary()"
   ]
  },
  {
   "cell_type": "code",
   "execution_count": 32,
   "metadata": {
    "colab": {
     "base_uri": "https://localhost:8080/",
     "height": 714
    },
    "colab_type": "code",
    "executionInfo": {
     "elapsed": 261440,
     "status": "ok",
     "timestamp": 1546019129615,
     "user": {
      "displayName": "Chitralekha Narkhede",
      "photoUrl": "",
      "userId": "05234124061121081045"
     },
     "user_tz": -330
    },
    "id": "WtedWlKD0VIq",
    "outputId": "8ec53abb-fd72-4419-9912-585dc85e7c00"
   },
   "outputs": [
    {
     "name": "stdout",
     "output_type": "stream",
     "text": [
      "Train on 60000 samples, validate on 10000 samples\n",
      "Epoch 1/20\n",
      "60000/60000 [==============================] - 14s 240us/step - loss: 0.5505 - acc: 0.8335 - val_loss: 0.1642 - val_acc: 0.9487\n",
      "Epoch 2/20\n",
      "60000/60000 [==============================] - 13s 212us/step - loss: 0.2447 - acc: 0.9290 - val_loss: 0.1198 - val_acc: 0.9626\n",
      "Epoch 3/20\n",
      "60000/60000 [==============================] - 13s 212us/step - loss: 0.1930 - acc: 0.9433 - val_loss: 0.0975 - val_acc: 0.9711\n",
      "Epoch 4/20\n",
      "60000/60000 [==============================] - 13s 212us/step - loss: 0.1625 - acc: 0.9525 - val_loss: 0.0862 - val_acc: 0.9740\n",
      "Epoch 5/20\n",
      "60000/60000 [==============================] - 13s 212us/step - loss: 0.1450 - acc: 0.9571 - val_loss: 0.0858 - val_acc: 0.9740\n",
      "Epoch 6/20\n",
      "60000/60000 [==============================] - 13s 212us/step - loss: 0.1307 - acc: 0.9614 - val_loss: 0.0752 - val_acc: 0.9769\n",
      "Epoch 7/20\n",
      "60000/60000 [==============================] - 13s 214us/step - loss: 0.1244 - acc: 0.9629 - val_loss: 0.0725 - val_acc: 0.9788\n",
      "Epoch 8/20\n",
      "60000/60000 [==============================] - 13s 214us/step - loss: 0.1111 - acc: 0.9670 - val_loss: 0.0683 - val_acc: 0.9781\n",
      "Epoch 9/20\n",
      "60000/60000 [==============================] - 13s 214us/step - loss: 0.1070 - acc: 0.9677 - val_loss: 0.0667 - val_acc: 0.9803\n",
      "Epoch 10/20\n",
      "60000/60000 [==============================] - 13s 216us/step - loss: 0.1007 - acc: 0.9699 - val_loss: 0.0686 - val_acc: 0.9805\n",
      "Epoch 11/20\n",
      "60000/60000 [==============================] - 13s 215us/step - loss: 0.0945 - acc: 0.9720 - val_loss: 0.0656 - val_acc: 0.9813\n",
      "Epoch 12/20\n",
      "60000/60000 [==============================] - 13s 215us/step - loss: 0.0893 - acc: 0.9733 - val_loss: 0.0691 - val_acc: 0.9803\n",
      "Epoch 13/20\n",
      "60000/60000 [==============================] - 13s 219us/step - loss: 0.0854 - acc: 0.9743 - val_loss: 0.0667 - val_acc: 0.9811\n",
      "Epoch 14/20\n",
      "60000/60000 [==============================] - 13s 215us/step - loss: 0.0830 - acc: 0.9753 - val_loss: 0.0680 - val_acc: 0.9813\n",
      "Epoch 15/20\n",
      "60000/60000 [==============================] - 13s 215us/step - loss: 0.0799 - acc: 0.9759 - val_loss: 0.0592 - val_acc: 0.9819\n",
      "Epoch 16/20\n",
      "60000/60000 [==============================] - 13s 224us/step - loss: 0.0746 - acc: 0.9772 - val_loss: 0.0580 - val_acc: 0.9830\n",
      "Epoch 17/20\n",
      "60000/60000 [==============================] - 13s 218us/step - loss: 0.0746 - acc: 0.9775 - val_loss: 0.0608 - val_acc: 0.9827\n",
      "Epoch 18/20\n",
      "60000/60000 [==============================] - 13s 215us/step - loss: 0.0704 - acc: 0.9783 - val_loss: 0.0616 - val_acc: 0.9830\n",
      "Epoch 19/20\n",
      "60000/60000 [==============================] - 13s 215us/step - loss: 0.0646 - acc: 0.9798 - val_loss: 0.0595 - val_acc: 0.9841\n",
      "Epoch 20/20\n",
      "60000/60000 [==============================] - 13s 215us/step - loss: 0.0648 - acc: 0.9804 - val_loss: 0.0529 - val_acc: 0.9858\n"
     ]
    }
   ],
   "source": [
    "model.compile(optimizer='adam', loss='categorical_crossentropy', metrics=['accuracy'])\n",
    "\n",
    "history = model.fit(X_train, Y_train, batch_size=batch_size, epochs=nb_epoch, verbose=1, validation_data=(X_test, Y_test))"
   ]
  },
  {
   "cell_type": "code",
   "execution_count": 33,
   "metadata": {
    "colab": {
     "base_uri": "https://localhost:8080/",
     "height": 395
    },
    "colab_type": "code",
    "executionInfo": {
     "elapsed": 2425,
     "status": "ok",
     "timestamp": 1546019191207,
     "user": {
      "displayName": "Chitralekha Narkhede",
      "photoUrl": "",
      "userId": "05234124061121081045"
     },
     "user_tz": -330
    },
    "id": "mErPrddv0bus",
    "outputId": "caaf6c4c-e816-4e00-ede4-43b650fa8c5e"
   },
   "outputs": [
    {
     "name": "stdout",
     "output_type": "stream",
     "text": [
      "Test score: 0.052927311327529605\n",
      "Test accuracy: 0.9858\n"
     ]
    },
    {
     "data": {
      "image/png": "[encoded data removed]",
      "text/plain": [
       "<matplotlib.figure.Figure at 0x7f83e1160cf8>"
      ]
     },
     "metadata": {
      "tags": []
     },
     "output_type": "display_data"
    }
   ],
   "source": [
    "score = model.evaluate(X_test, Y_test, verbose=0) \n",
    "print('Test score:', score[0]) \n",
    "print('Test accuracy:', score[1])\n",
    "\n",
    "fig,ax = plt.subplots(1,1)\n",
    "ax.set_xlabel('epoch') ; ax.set_ylabel('Categorical Crossentropy Loss')\n",
    "\n",
    "# list of epoch numbers\n",
    "x = list(range(1,nb_epoch+1))\n",
    "vy = history.history['val_loss']\n",
    "ty = history.history['loss']\n",
    "plt_dynamic(x, vy, ty, ax)"
   ]
  },
  {
   "cell_type": "markdown",
   "metadata": {
    "colab_type": "text",
    "id": "FSW-4C012KOQ"
   },
   "source": [
    "For (784 - 600 - 567-428-385 -250- 10)  5 hidden layer Architecture"
   ]
  },
  {
   "cell_type": "code",
   "execution_count": 34,
   "metadata": {
    "colab": {
     "base_uri": "https://localhost:8080/",
     "height": 680
    },
    "colab_type": "code",
    "executionInfo": {
     "elapsed": 1369,
     "status": "ok",
     "timestamp": 1546019221053,
     "user": {
      "displayName": "Chitralekha Narkhede",
      "photoUrl": "",
      "userId": "05234124061121081045"
     },
     "user_tz": -330
    },
    "id": "jIaBFgbZ2LDo",
    "outputId": "2ba1d6b6-d66f-4d7f-ba0a-9849f4e34534"
   },
   "outputs": [
    {
     "name": "stdout",
     "output_type": "stream",
     "text": [
      "_________________________________________________________________\n",
      "Layer (type)                 Output Shape              Param #   \n",
      "=================================================================\n",
      "dense_20 (Dense)             (None, 600)               471000    \n",
      "_________________________________________________________________\n",
      "batch_normalization_14 (Batc (None, 600)               2400      \n",
      "_________________________________________________________________\n",
      "dropout_14 (Dropout)         (None, 600)               0         \n",
      "_________________________________________________________________\n",
      "dense_21 (Dense)             (None, 567)               340767    \n",
      "_________________________________________________________________\n",
      "batch_normalization_15 (Batc (None, 567)               2268      \n",
      "_________________________________________________________________\n",
      "dropout_15 (Dropout)         (None, 567)               0         \n",
      "_________________________________________________________________\n",
      "dense_22 (Dense)             (None, 428)               243104    \n",
      "_________________________________________________________________\n",
      "batch_normalization_16 (Batc (None, 428)               1712      \n",
      "_________________________________________________________________\n",
      "dropout_16 (Dropout)         (None, 428)               0         \n",
      "_________________________________________________________________\n",
      "dense_23 (Dense)             (None, 385)               165165    \n",
      "_________________________________________________________________\n",
      "batch_normalization_17 (Batc (None, 385)               1540      \n",
      "_________________________________________________________________\n",
      "dropout_17 (Dropout)         (None, 385)               0         \n",
      "_________________________________________________________________\n",
      "dense_24 (Dense)             (None, 250)               96500     \n",
      "_________________________________________________________________\n",
      "batch_normalization_18 (Batc (None, 250)               1000      \n",
      "_________________________________________________________________\n",
      "dropout_18 (Dropout)         (None, 250)               0         \n",
      "_________________________________________________________________\n",
      "dense_25 (Dense)             (None, 10)                2510      \n",
      "=================================================================\n",
      "Total params: 1,327,966\n",
      "Trainable params: 1,323,506\n",
      "Non-trainable params: 4,460\n",
      "_________________________________________________________________\n"
     ]
    }
   ],
   "source": [
    "from keras.layers import Dropout\n",
    "from keras.layers.normalization import BatchNormalization\n",
    "\n",
    "model = Sequential()\n",
    "\n",
    "model.add(Dense(600, activation='relu', input_shape=(input_dim,), kernel_initializer=RandomNormal(mean=0.0, stddev=0.039, seed=None)))\n",
    "model.add(BatchNormalization())\n",
    "model.add(Dropout(0.5))\n",
    "\n",
    "model.add(Dense(567, activation='relu', input_shape=(input_dim,), kernel_initializer=RandomNormal(mean=0.0, stddev=0.039, seed=None)))\n",
    "model.add(BatchNormalization())\n",
    "model.add(Dropout(0.5))\n",
    "\n",
    "model.add(Dense(428, activation='relu', input_shape=(input_dim,), kernel_initializer=RandomNormal(mean=0.0, stddev=0.039, seed=None)))\n",
    "model.add(BatchNormalization())\n",
    "model.add(Dropout(0.5))\n",
    "\n",
    "model.add(Dense(385, activation='relu', input_shape=(input_dim,), kernel_initializer=RandomNormal(mean=0.0, stddev=0.039, seed=None)))\n",
    "model.add(BatchNormalization())\n",
    "model.add(Dropout(0.5))\n",
    "\n",
    "model.add(Dense(250, activation='relu', kernel_initializer=RandomNormal(mean=0.0, stddev=0.55, seed=None)) )\n",
    "model.add(BatchNormalization())\n",
    "model.add(Dropout(0.5))\n",
    "\n",
    "model.add(Dense(output_dim, activation='softmax'))\n",
    "\n",
    "\n",
    "model.summary()"
   ]
  },
  {
   "cell_type": "code",
   "execution_count": 36,
   "metadata": {
    "colab": {
     "base_uri": "https://localhost:8080/",
     "height": 714
    },
    "colab_type": "code",
    "executionInfo": {
     "elapsed": 530443,
     "status": "ok",
     "timestamp": 1546020284668,
     "user": {
      "displayName": "Chitralekha Narkhede",
      "photoUrl": "",
      "userId": "05234124061121081045"
     },
     "user_tz": -330
    },
    "id": "1Oka51H-2fb6",
    "outputId": "a3f27bfe-9cc8-40f3-a6ea-bfa8ccbe1688"
   },
   "outputs": [
    {
     "name": "stdout",
     "output_type": "stream",
     "text": [
      "Train on 60000 samples, validate on 10000 samples\n",
      "Epoch 1/20\n",
      "60000/60000 [==============================] - 29s 481us/step - loss: 0.0717 - acc: 0.9793 - val_loss: 0.0594 - val_acc: 0.9850\n",
      "Epoch 2/20\n",
      "60000/60000 [==============================] - 26s 436us/step - loss: 0.0706 - acc: 0.9798 - val_loss: 0.0578 - val_acc: 0.9838\n",
      "Epoch 3/20\n",
      "60000/60000 [==============================] - 26s 435us/step - loss: 0.0695 - acc: 0.9798 - val_loss: 0.0601 - val_acc: 0.9833\n",
      "Epoch 4/20\n",
      "60000/60000 [==============================] - 26s 433us/step - loss: 0.0631 - acc: 0.9816 - val_loss: 0.0557 - val_acc: 0.9848\n",
      "Epoch 5/20\n",
      "60000/60000 [==============================] - 26s 433us/step - loss: 0.0616 - acc: 0.9816 - val_loss: 0.0511 - val_acc: 0.9857\n",
      "Epoch 6/20\n",
      "60000/60000 [==============================] - 26s 434us/step - loss: 0.0603 - acc: 0.9823 - val_loss: 0.0531 - val_acc: 0.9849\n",
      "Epoch 7/20\n",
      "60000/60000 [==============================] - 26s 435us/step - loss: 0.0605 - acc: 0.9827 - val_loss: 0.0578 - val_acc: 0.9846\n",
      "Epoch 8/20\n",
      "60000/60000 [==============================] - 26s 438us/step - loss: 0.0570 - acc: 0.9829 - val_loss: 0.0587 - val_acc: 0.9849\n",
      "Epoch 9/20\n",
      "60000/60000 [==============================] - 26s 436us/step - loss: 0.0571 - acc: 0.9836 - val_loss: 0.0520 - val_acc: 0.9857\n",
      "Epoch 10/20\n",
      "60000/60000 [==============================] - 27s 450us/step - loss: 0.0540 - acc: 0.9841 - val_loss: 0.0541 - val_acc: 0.9854\n",
      "Epoch 11/20\n",
      "60000/60000 [==============================] - 26s 437us/step - loss: 0.0513 - acc: 0.9839 - val_loss: 0.0558 - val_acc: 0.9854\n",
      "Epoch 12/20\n",
      "60000/60000 [==============================] - 26s 440us/step - loss: 0.0545 - acc: 0.9838 - val_loss: 0.0535 - val_acc: 0.9853\n",
      "Epoch 13/20\n",
      "60000/60000 [==============================] - 26s 436us/step - loss: 0.0501 - acc: 0.9851 - val_loss: 0.0533 - val_acc: 0.9864\n",
      "Epoch 14/20\n",
      "60000/60000 [==============================] - 26s 437us/step - loss: 0.0512 - acc: 0.9850 - val_loss: 0.0505 - val_acc: 0.9866\n",
      "Epoch 15/20\n",
      "60000/60000 [==============================] - 26s 439us/step - loss: 0.0490 - acc: 0.9854 - val_loss: 0.0530 - val_acc: 0.9863\n",
      "Epoch 16/20\n",
      "60000/60000 [==============================] - 26s 439us/step - loss: 0.0438 - acc: 0.9866 - val_loss: 0.0533 - val_acc: 0.9859\n",
      "Epoch 17/20\n",
      "60000/60000 [==============================] - 26s 438us/step - loss: 0.0455 - acc: 0.9862 - val_loss: 0.0528 - val_acc: 0.9857\n",
      "Epoch 18/20\n",
      "60000/60000 [==============================] - 26s 436us/step - loss: 0.0439 - acc: 0.9868 - val_loss: 0.0504 - val_acc: 0.9869\n",
      "Epoch 19/20\n",
      "60000/60000 [==============================] - 27s 442us/step - loss: 0.0427 - acc: 0.9874 - val_loss: 0.0546 - val_acc: 0.9857\n",
      "Epoch 20/20\n",
      "60000/60000 [==============================] - 27s 442us/step - loss: 0.0432 - acc: 0.9871 - val_loss: 0.0531 - val_acc: 0.9861\n"
     ]
    }
   ],
   "source": [
    "model.compile(optimizer='adam', loss='categorical_crossentropy', metrics=['accuracy'])\n",
    "\n",
    "history = model.fit(X_train, Y_train, batch_size=batch_size, epochs=nb_epoch, verbose=1, validation_data=(X_test, Y_test))"
   ]
  },
  {
   "cell_type": "code",
   "execution_count": 37,
   "metadata": {
    "colab": {
     "base_uri": "https://localhost:8080/",
     "height": 395
    },
    "colab_type": "code",
    "executionInfo": {
     "elapsed": 3144,
     "status": "ok",
     "timestamp": 1546020298070,
     "user": {
      "displayName": "Chitralekha Narkhede",
      "photoUrl": "",
      "userId": "05234124061121081045"
     },
     "user_tz": -330
    },
    "id": "dCMJDr8c2j8J",
    "outputId": "d725eaf4-b06d-45bb-a56c-442517b5448d"
   },
   "outputs": [
    {
     "name": "stdout",
     "output_type": "stream",
     "text": [
      "Test score: 0.05311666791146854\n",
      "Test accuracy: 0.9861\n"
     ]
    },
    {
     "data": {
      "image/png": "[encoded data removed]",
      "text/plain": [
       "<matplotlib.figure.Figure at 0x7f83dfb43f28>"
      ]
     },
     "metadata": {
      "tags": []
     },
     "output_type": "display_data"
    }
   ],
   "source": [
    "score = model.evaluate(X_test, Y_test, verbose=0) \n",
    "print('Test score:', score[0]) \n",
    "print('Test accuracy:', score[1])\n",
    "\n",
    "fig,ax = plt.subplots(1,1)\n",
    "ax.set_xlabel('epoch') ; ax.set_ylabel('Categorical Crossentropy Loss')\n",
    "\n",
    "# list of epoch numbers\n",
    "x = list(range(1,nb_epoch+1))\n",
    "vy = history.history['val_loss']\n",
    "ty = history.history['loss']\n",
    "plt_dynamic(x, vy, ty, ax)"
   ]
  },
  {
   "cell_type": "markdown",
   "metadata": {
    "colab_type": "text",
    "id": "wZ047jgH_tMU"
   },
   "source": [
    "Observation:\n",
    "Accuracy increasing slightly as number of hidden layer increases.\n",
    "As in graph of third architecture of number of 5 hidden layers its overtitting after 13 epochs."
   ]
  }
 ],
 "metadata": {
  "colab": {
   "name": "MNIST Dataset with MLP Architectures in Keras.ipynb",
   "provenance": [],
   "version": "0.3.2"
  },
  "kernelspec": {
   "display_name": "Python 3",
   "language": "python",
   "name": "python3"
  },
  "language_info": {
   "codemirror_mode": {
    "name": "ipython",
    "version": 3
   },
   "file_extension": ".py",
   "mimetype": "text/x-python",
   "name": "python",
   "nbconvert_exporter": "python",
   "pygments_lexer": "ipython3",
   "version": "3.6.7"
  }
 },
 "nbformat": 4,
 "nbformat_minor": 1
}
