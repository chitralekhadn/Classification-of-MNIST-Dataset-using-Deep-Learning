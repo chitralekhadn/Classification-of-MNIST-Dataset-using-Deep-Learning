{
 "cells": [
  {
   "cell_type": "code",
   "execution_count": 2,
   "metadata": {
    "colab": {
     "base_uri": "https://localhost:8080/",
     "height": 34
    },
    "colab_type": "code",
    "id": "sj8xZSUFAF6H",
    "outputId": "b3edbe9e-6868-41ba-9cf4-a3b4fcc878d1"
   },
   "outputs": [
    {
     "name": "stderr",
     "output_type": "stream",
     "text": [
      "Using TensorFlow backend.\n"
     ]
    }
   ],
   "source": [
    "from __future__ import print_function\n",
    "import keras\n",
    "from keras.datasets import mnist\n",
    "from keras.models import Sequential\n",
    "from keras.layers import Dense, Dropout, Flatten\n",
    "from keras.layers import Conv2D, MaxPooling2D\n",
    "from keras import backend as K"
   ]
  },
  {
   "cell_type": "code",
   "execution_count": 0,
   "metadata": {
    "colab": {},
    "colab_type": "code",
    "id": "Ef0oh2HxB2kh"
   },
   "outputs": [],
   "source": [
    "batch_size = 128\n",
    "num_classes = 10\n",
    "epochs = 12"
   ]
  },
  {
   "cell_type": "code",
   "execution_count": 0,
   "metadata": {
    "colab": {},
    "colab_type": "code",
    "id": "55OUVgRKB69Z"
   },
   "outputs": [],
   "source": [
    "img_rows, img_cols = 28, 28"
   ]
  },
  {
   "cell_type": "code",
   "execution_count": 5,
   "metadata": {
    "colab": {
     "base_uri": "https://localhost:8080/",
     "height": 51
    },
    "colab_type": "code",
    "id": "MmPVX2nbCLxD",
    "outputId": "404cd9ca-f08e-4de9-c083-36452b16d2a0"
   },
   "outputs": [
    {
     "name": "stdout",
     "output_type": "stream",
     "text": [
      "Downloading data from https://s3.amazonaws.com/img-datasets/mnist.npz\n",
      "11493376/11490434 [==============================] - 1s 0us/step\n"
     ]
    }
   ],
   "source": [
    "(x_train, y_train), (x_test, y_test) = mnist.load_data()"
   ]
  },
  {
   "cell_type": "code",
   "execution_count": 0,
   "metadata": {
    "colab": {},
    "colab_type": "code",
    "id": "2eiP5TwtCSgy"
   },
   "outputs": [],
   "source": [
    "if K.image_data_format() == 'channels_first':\n",
    "    x_train = x_train.reshape(x_train.shape[0], 1, img_rows, img_cols)\n",
    "    x_test = x_test.reshape(x_test.shape[0], 1, img_rows, img_cols)\n",
    "    input_shape = (1, img_rows, img_cols)\n",
    "else:\n",
    "    x_train = x_train.reshape(x_train.shape[0], img_rows, img_cols, 1)\n",
    "    x_test = x_test.reshape(x_test.shape[0], img_rows, img_cols, 1)\n",
    "    input_shape = (img_rows, img_cols, 1)"
   ]
  },
  {
   "cell_type": "code",
   "execution_count": 7,
   "metadata": {
    "colab": {
     "base_uri": "https://localhost:8080/",
     "height": 68
    },
    "colab_type": "code",
    "id": "K0XxJxEaChTL",
    "outputId": "bfa05957-5db9-4ae9-bee3-b503ef2f80bc"
   },
   "outputs": [
    {
     "name": "stdout",
     "output_type": "stream",
     "text": [
      "x_train shape: (60000, 28, 28, 1)\n",
      "60000 train samples\n",
      "10000 test samples\n"
     ]
    }
   ],
   "source": [
    "x_train = x_train.astype('float32')\n",
    "x_test = x_test.astype('float32')\n",
    "x_train /= 255\n",
    "x_test /= 255\n",
    "print('x_train shape:', x_train.shape)\n",
    "print(x_train.shape[0], 'train samples')\n",
    "print(x_test.shape[0], 'test samples')"
   ]
  },
  {
   "cell_type": "code",
   "execution_count": 0,
   "metadata": {
    "colab": {},
    "colab_type": "code",
    "id": "h6fq-FvyC8Dg"
   },
   "outputs": [],
   "source": [
    "y_train = keras.utils.to_categorical(y_train, num_classes)\n",
    "y_test = keras.utils.to_categorical(y_test, num_classes)"
   ]
  },
  {
   "cell_type": "code",
   "execution_count": 0,
   "metadata": {
    "colab": {},
    "colab_type": "code",
    "id": "MyJttrT4nEM1"
   },
   "outputs": [],
   "source": [
    "def plt_dynamic(x, vy, ty, ax, colors=['b']):\n",
    "    ax.plot(x, vy, 'b', label=\"Validation Loss\")\n",
    "    ax.plot(x, ty, 'r', label=\"Train Loss\")\n",
    "    plt.legend()\n",
    "    plt.grid()\n",
    "    fig.canvas.draw()"
   ]
  },
  {
   "cell_type": "markdown",
   "metadata": {
    "colab_type": "text",
    "id": "_87WXJFdDz9z"
   },
   "source": [
    "Model 1: 3 convolutional layer"
   ]
  },
  {
   "cell_type": "code",
   "execution_count": 0,
   "metadata": {
    "colab": {
     "base_uri": "https://localhost:8080/",
     "height": 139
    },
    "colab_type": "code",
    "id": "TQ9-mGJkDDhV",
    "outputId": "492c165f-daa1-4652-8221-5bb60fffdf4d"
   },
   "outputs": [
    {
     "name": "stdout",
     "output_type": "stream",
     "text": [
      "WARNING:tensorflow:From /usr/local/lib/python3.6/dist-packages/tensorflow/python/framework/op_def_library.py:263: colocate_with (from tensorflow.python.framework.ops) is deprecated and will be removed in a future version.\n",
      "Instructions for updating:\n",
      "Colocations handled automatically by placer.\n",
      "WARNING:tensorflow:From /usr/local/lib/python3.6/dist-packages/keras/backend/tensorflow_backend.py:3445: calling dropout (from tensorflow.python.ops.nn_ops) with keep_prob is deprecated and will be removed in a future version.\n",
      "Instructions for updating:\n",
      "Please use `rate` instead of `keep_prob`. Rate should be set to `rate = 1 - keep_prob`.\n"
     ]
    }
   ],
   "source": [
    "model = Sequential()\n",
    "model.add(Conv2D(32, kernel_size=(3, 3),activation='relu',input_shape=input_shape))\n",
    "model.add(MaxPooling2D(pool_size=(2, 2)))\n",
    "\n",
    "model.add(Conv2D(64, kernel_size=(3, 3),activation='relu'))\n",
    "model.add(MaxPooling2D(pool_size=(2, 2)))\n",
    "\n",
    "model.add(Conv2D(128, kernel_size=(3, 3),activation='relu'))\n",
    "\n",
    "model.add(Dropout(0.25))\n",
    "model.add(Flatten())\n",
    "model.add(Dense(128, activation='relu'))\n",
    "model.add(Dropout(0.5))\n",
    "model.add(Dense(num_classes, activation='softmax'))"
   ]
  },
  {
   "cell_type": "code",
   "execution_count": 0,
   "metadata": {
    "colab": {},
    "colab_type": "code",
    "id": "rdNIQnXODSiw"
   },
   "outputs": [],
   "source": [
    "model.compile(loss=keras.losses.categorical_crossentropy,\n",
    "              optimizer=keras.optimizers.Adadelta(),\n",
    "              metrics=['accuracy'])\n"
   ]
  },
  {
   "cell_type": "code",
   "execution_count": 0,
   "metadata": {
    "colab": {
     "base_uri": "https://localhost:8080/",
     "height": 476
    },
    "colab_type": "code",
    "id": "ALLpIoiEa3UB",
    "outputId": "caaaea35-6e72-4f98-f620-88f15574ca66"
   },
   "outputs": [
    {
     "name": "stdout",
     "output_type": "stream",
     "text": [
      "Train on 60000 samples, validate on 10000 samples\n",
      "Epoch 1/12\n",
      "60000/60000 [==============================] - 68s 1ms/step - loss: 0.2760 - acc: 0.9161 - val_loss: 0.0895 - val_acc: 0.9708\n",
      "Epoch 2/12\n",
      "60000/60000 [==============================] - 69s 1ms/step - loss: 0.1426 - acc: 0.9589 - val_loss: 0.0571 - val_acc: 0.9821\n",
      "Epoch 3/12\n",
      "60000/60000 [==============================] - 69s 1ms/step - loss: 0.1132 - acc: 0.9672 - val_loss: 0.0556 - val_acc: 0.9845\n",
      "Epoch 4/12\n",
      "60000/60000 [==============================] - 69s 1ms/step - loss: 0.0998 - acc: 0.9723 - val_loss: 0.0484 - val_acc: 0.9857\n",
      "Epoch 5/12\n",
      "60000/60000 [==============================] - 69s 1ms/step - loss: 0.0900 - acc: 0.9747 - val_loss: 0.0362 - val_acc: 0.9889\n",
      "Epoch 6/12\n",
      "60000/60000 [==============================] - 69s 1ms/step - loss: 0.0824 - acc: 0.9767 - val_loss: 0.0475 - val_acc: 0.9870\n",
      "Epoch 7/12\n",
      "60000/60000 [==============================] - 70s 1ms/step - loss: 0.0770 - acc: 0.9790 - val_loss: 0.0466 - val_acc: 0.9865\n",
      "Epoch 8/12\n",
      "60000/60000 [==============================] - 70s 1ms/step - loss: 0.0725 - acc: 0.9806 - val_loss: 0.0487 - val_acc: 0.9862\n",
      "Epoch 9/12\n",
      "60000/60000 [==============================] - 69s 1ms/step - loss: 0.0722 - acc: 0.9809 - val_loss: 0.0418 - val_acc: 0.9885\n",
      "Epoch 10/12\n",
      "60000/60000 [==============================] - 73s 1ms/step - loss: 0.0687 - acc: 0.9817 - val_loss: 0.0365 - val_acc: 0.9907\n",
      "Epoch 11/12\n",
      "60000/60000 [==============================] - 70s 1ms/step - loss: 0.0654 - acc: 0.9831 - val_loss: 0.0345 - val_acc: 0.9910\n",
      "Epoch 12/12\n",
      "60000/60000 [==============================] - 70s 1ms/step - loss: 0.0672 - acc: 0.9830 - val_loss: 0.0390 - val_acc: 0.9888\n",
      "Test loss: 0.03899886542790646\n",
      "Test accuracy: 0.9888\n"
     ]
    }
   ],
   "source": [
    "history = model.fit(x_train, y_train,\n",
    "          batch_size=batch_size,\n",
    "          epochs=epochs,\n",
    "          verbose=1,\n",
    "          validation_data=(x_test, y_test))\n",
    "score = model.evaluate(x_test, y_test, verbose=0)\n",
    "print('Test loss:', score[0])\n",
    "print('Test accuracy:', score[1])"
   ]
  },
  {
   "cell_type": "code",
   "execution_count": 0,
   "metadata": {
    "colab": {
     "base_uri": "https://localhost:8080/",
     "height": 395
    },
    "colab_type": "code",
    "id": "UgySyQcpfGdu",
    "outputId": "106deb69-6b54-484d-b3a4-f0fadb68e378"
   },
   "outputs": [
    {
     "name": "stdout",
     "output_type": "stream",
     "text": [
      "Test loss: 0.03899886542790646\n",
      "Test accuracy: 0.9888\n"
     ]
    },
    {
     "data": {
      "image/png": "[encoded data removed]",
      "text/plain": [
       "<Figure size 576x396 with 1 Axes>"
      ]
     },
     "metadata": {
      "tags": []
     },
     "output_type": "display_data"
    }
   ],
   "source": [
    "score = model.evaluate(x_test, y_test, verbose=0) \n",
    "print('Test loss:', score[0]) \n",
    "print('Test accuracy:', score[1])\n",
    "\n",
    "fig,ax = plt.subplots(1,1)\n",
    "ax.set_xlabel('epoch') ; ax.set_ylabel('Categorical Crossentropy Loss')\n",
    "\n",
    "# list of epoch numbers\n",
    "x = list(range(1,epochs+1))\n",
    "vy = history.history['val_loss']\n",
    "ty = history.history['loss']\n",
    "plt_dynamic(x, vy, ty, ax)"
   ]
  },
  {
   "cell_type": "raw",
   "metadata": {},
   "source": [
    "Observation: As number of epochs increases overfitting reduces."
   ]
  },
  {
   "cell_type": "markdown",
   "metadata": {
    "colab_type": "text",
    "id": "rCPRT2iELFWS"
   },
   "source": [
    "Model 2: 5 convolutional layer"
   ]
  },
  {
   "cell_type": "code",
   "execution_count": 0,
   "metadata": {
    "colab": {},
    "colab_type": "code",
    "id": "60FjOfScL2CC"
   },
   "outputs": [],
   "source": [
    "from keras.layers import  BatchNormalization"
   ]
  },
  {
   "cell_type": "code",
   "execution_count": 11,
   "metadata": {
    "colab": {
     "base_uri": "https://localhost:8080/",
     "height": 139
    },
    "colab_type": "code",
    "id": "lHtETB3DLEJZ",
    "outputId": "63f82e89-c42c-4751-ded9-382ddd3307a2"
   },
   "outputs": [
    {
     "name": "stdout",
     "output_type": "stream",
     "text": [
      "WARNING:tensorflow:From /usr/local/lib/python3.6/dist-packages/tensorflow/python/framework/op_def_library.py:263: colocate_with (from tensorflow.python.framework.ops) is deprecated and will be removed in a future version.\n",
      "Instructions for updating:\n",
      "Colocations handled automatically by placer.\n",
      "WARNING:tensorflow:From /usr/local/lib/python3.6/dist-packages/keras/backend/tensorflow_backend.py:3445: calling dropout (from tensorflow.python.ops.nn_ops) with keep_prob is deprecated and will be removed in a future version.\n",
      "Instructions for updating:\n",
      "Please use `rate` instead of `keep_prob`. Rate should be set to `rate = 1 - keep_prob`.\n"
     ]
    }
   ],
   "source": [
    "model = Sequential()\n",
    "model.add(Conv2D(32, kernel_size=(2, 2),activation='relu',input_shape=input_shape))\n",
    "model.add(BatchNormalization())\n",
    "model.add(Dropout(0.25))\n",
    "\n",
    "model.add(Conv2D(64, kernel_size=(2, 2),activation='relu'))\n",
    "model.add(BatchNormalization())\n",
    "model.add(MaxPooling2D(pool_size=(2, 2)))\n",
    "model.add(Dropout(0.25))\n",
    "\n",
    "model.add(Conv2D(64, kernel_size=(2, 2),activation='relu'))\n",
    "model.add(BatchNormalization())\n",
    "model.add(Dropout(0.25))\n",
    "\n",
    "\n",
    "model.add(Conv2D(128, kernel_size=(2, 2),activation='relu'))\n",
    "model.add(BatchNormalization())\n",
    "model.add(MaxPooling2D(pool_size=(2, 2)))\n",
    "model.add(Dropout(0.25))\n",
    "\n",
    "model.add(Conv2D(64, kernel_size=(2, 2),activation='relu'))\n",
    "model.add(BatchNormalization())\n",
    "model.add(Dropout(0.25))\n",
    "\n",
    "model.add(Flatten())\n",
    "model.add(Dense(10, activation='relu'))\n",
    "model.add(Dropout(0.5))\n",
    "model.add(Dense(num_classes, activation='softmax'))"
   ]
  },
  {
   "cell_type": "code",
   "execution_count": 0,
   "metadata": {
    "colab": {},
    "colab_type": "code",
    "id": "SX9l1zp-NnZw"
   },
   "outputs": [],
   "source": [
    "model.compile(loss=keras.losses.categorical_crossentropy,\n",
    "              optimizer=keras.optimizers.Adadelta(),\n",
    "              metrics=['accuracy'])\n"
   ]
  },
  {
   "cell_type": "code",
   "execution_count": 13,
   "metadata": {
    "colab": {
     "base_uri": "https://localhost:8080/",
     "height": 547
    },
    "colab_type": "code",
    "id": "7n0Tq9QH4JUi",
    "outputId": "713ae8c4-bc69-4dfb-b720-8091cc5b7bfb"
   },
   "outputs": [
    {
     "name": "stdout",
     "output_type": "stream",
     "text": [
      "WARNING:tensorflow:From /usr/local/lib/python3.6/dist-packages/tensorflow/python/ops/math_ops.py:3066: to_int32 (from tensorflow.python.ops.math_ops) is deprecated and will be removed in a future version.\n",
      "Instructions for updating:\n",
      "Use tf.cast instead.\n",
      "Train on 60000 samples, validate on 10000 samples\n",
      "Epoch 1/12\n",
      "60000/60000 [==============================] - 21s 358us/step - loss: 1.3492 - acc: 0.5311 - val_loss: 0.4087 - val_acc: 0.9483\n",
      "Epoch 2/12\n",
      "60000/60000 [==============================] - 18s 296us/step - loss: 0.9433 - acc: 0.6766 - val_loss: 0.2985 - val_acc: 0.9671\n",
      "Epoch 3/12\n",
      "60000/60000 [==============================] - 18s 297us/step - loss: 0.8652 - acc: 0.6960 - val_loss: 0.2397 - val_acc: 0.9789\n",
      "Epoch 4/12\n",
      "60000/60000 [==============================] - 18s 295us/step - loss: 0.8294 - acc: 0.7091 - val_loss: 0.2097 - val_acc: 0.9818\n",
      "Epoch 5/12\n",
      "60000/60000 [==============================] - 18s 298us/step - loss: 0.7820 - acc: 0.7207 - val_loss: 0.2032 - val_acc: 0.9808\n",
      "Epoch 6/12\n",
      "60000/60000 [==============================] - 18s 297us/step - loss: 0.7705 - acc: 0.7257 - val_loss: 0.1752 - val_acc: 0.9863\n",
      "Epoch 7/12\n",
      "60000/60000 [==============================] - 18s 298us/step - loss: 0.7443 - acc: 0.7357 - val_loss: 0.1701 - val_acc: 0.9868\n",
      "Epoch 8/12\n",
      "60000/60000 [==============================] - 18s 297us/step - loss: 0.7285 - acc: 0.7381 - val_loss: 0.1601 - val_acc: 0.9870\n",
      "Epoch 9/12\n",
      "60000/60000 [==============================] - 18s 296us/step - loss: 0.7289 - acc: 0.7382 - val_loss: 0.1646 - val_acc: 0.9860\n",
      "Epoch 10/12\n",
      "60000/60000 [==============================] - 18s 299us/step - loss: 0.7271 - acc: 0.7392 - val_loss: 0.1605 - val_acc: 0.9870\n",
      "Epoch 11/12\n",
      "60000/60000 [==============================] - 18s 299us/step - loss: 0.7176 - acc: 0.7411 - val_loss: 0.1547 - val_acc: 0.9863\n",
      "Epoch 12/12\n",
      "60000/60000 [==============================] - 18s 298us/step - loss: 0.7161 - acc: 0.7418 - val_loss: 0.1523 - val_acc: 0.9886\n",
      "Test loss: 0.15232067085504533\n",
      "Test accuracy: 0.9886\n"
     ]
    }
   ],
   "source": [
    "history = model.fit(x_train, y_train,\n",
    "          batch_size=batch_size,\n",
    "          epochs=epochs,\n",
    "          verbose=1,\n",
    "          validation_data=(x_test, y_test))\n",
    "score = model.evaluate(x_test, y_test, verbose=0)\n",
    "print('Test loss:', score[0])\n",
    "print('Test accuracy:', score[1])"
   ]
  },
  {
   "cell_type": "code",
   "execution_count": 15,
   "metadata": {
    "colab": {
     "base_uri": "https://localhost:8080/",
     "height": 363
    },
    "colab_type": "code",
    "id": "CqArJ2zGSDnh",
    "outputId": "5a7b984b-ddff-4c8d-8888-6cf01d636a6a"
   },
   "outputs": [
    {
     "data": {
      "image/png": "[encoded data removed]",
      "text/plain": [
       "<Figure size 576x396 with 1 Axes>"
      ]
     },
     "metadata": {
      "tags": []
     },
     "output_type": "display_data"
    }
   ],
   "source": [
    "import matplotlib.pyplot as plt\n",
    "fig,ax = plt.subplots(1,1)\n",
    "ax.set_xlabel('epoch') ; ax.set_ylabel('Categorical Crossentropy Loss')\n",
    "\n",
    "# list of epoch numbers\n",
    "x = list(range(1,epochs+1))\n",
    "vy = history.history['val_loss']\n",
    "ty = history.history['loss']\n",
    "plt_dynamic(x, vy, ty, ax)"
   ]
  },
  {
   "cell_type": "raw",
   "metadata": {},
   "source": [
    "Observation: As number of epochs increases overfitting not that much reduces as in 3 convolutional layer."
   ]
  },
  {
   "cell_type": "markdown",
   "metadata": {
    "colab_type": "text",
    "id": "ZvT7Jvc7OTDn"
   },
   "source": [
    "Model 3: 7convolutional layer"
   ]
  },
  {
   "cell_type": "code",
   "execution_count": 0,
   "metadata": {
    "colab": {},
    "colab_type": "code",
    "id": "E7BEno5uOZ1T"
   },
   "outputs": [],
   "source": [
    "from keras.layers import  BatchNormalization\n",
    "model = Sequential()\n",
    "model.add(Conv2D(32, kernel_size=(2,2),activation='relu',input_shape=input_shape))\n",
    "model.add(BatchNormalization())\n",
    "model.add(Dropout(0.25))\n",
    "\n",
    "model.add(Conv2D(64, kernel_size=(2,2),activation='relu'))\n",
    "model.add(BatchNormalization())\n",
    "model.add(Dropout(0.25))\n",
    "\n",
    "model.add(Conv2D(128, kernel_size=(2,2),activation='relu'))\n",
    "model.add(BatchNormalization())\n",
    "model.add(MaxPooling2D(pool_size=(2, 2)))\n",
    "model.add(Dropout(0.25))\n",
    "\n",
    "\n",
    "model.add(Conv2D(512, kernel_size=(2,2),activation='relu'))\n",
    "model.add(BatchNormalization())\n",
    "model.add(Dropout(0.25))\n",
    "\n",
    "model.add(Conv2D(512, kernel_size=(2,2),activation='relu'))\n",
    "model.add(BatchNormalization())\n",
    "model.add(Dropout(0.25))\n",
    "\n",
    "model.add(Conv2D(128, kernel_size=(2,2),activation='relu'))\n",
    "model.add(BatchNormalization())\n",
    "model.add(MaxPooling2D(pool_size=(2, 2)))\n",
    "model.add(Dropout(0.25))\n",
    "\n",
    "model.add(Conv2D(64, kernel_size=(2,2),activation='relu'))\n",
    "model.add(BatchNormalization())\n",
    "model.add(Dropout(0.25))\n",
    "\n",
    "model.add(Flatten())\n",
    "model.add(Dense(10, activation='relu'))\n",
    "model.add(Dropout(0.5))\n",
    "model.add(Dense(num_classes, activation='softmax'))"
   ]
  },
  {
   "cell_type": "code",
   "execution_count": 0,
   "metadata": {
    "colab": {},
    "colab_type": "code",
    "id": "gMHj30VgPJe-"
   },
   "outputs": [],
   "source": [
    "model.compile(loss=keras.losses.categorical_crossentropy,\n",
    "              optimizer=keras.optimizers.Adadelta(),\n",
    "              metrics=['accuracy'])\n"
   ]
  },
  {
   "cell_type": "code",
   "execution_count": 18,
   "metadata": {
    "colab": {
     "base_uri": "https://localhost:8080/",
     "height": 476
    },
    "colab_type": "code",
    "id": "I5wVNBEiPMSb",
    "outputId": "f6b10e40-f636-4991-830c-b471c7afb35a"
   },
   "outputs": [
    {
     "name": "stdout",
     "output_type": "stream",
     "text": [
      "Train on 60000 samples, validate on 10000 samples\n",
      "Epoch 1/12\n",
      "60000/60000 [==============================] - 81s 1ms/step - loss: 1.2123 - acc: 0.5546 - val_loss: 0.2543 - val_acc: 0.9397\n",
      "Epoch 2/12\n",
      "60000/60000 [==============================] - 78s 1ms/step - loss: 0.8338 - acc: 0.6634 - val_loss: 0.1111 - val_acc: 0.9762\n",
      "Epoch 3/12\n",
      "60000/60000 [==============================] - 78s 1ms/step - loss: 0.7547 - acc: 0.6901 - val_loss: 0.0831 - val_acc: 0.9825\n",
      "Epoch 4/12\n",
      "60000/60000 [==============================] - 78s 1ms/step - loss: 0.7196 - acc: 0.7046 - val_loss: 0.0635 - val_acc: 0.9868\n",
      "Epoch 5/12\n",
      "60000/60000 [==============================] - 78s 1ms/step - loss: 0.6941 - acc: 0.7220 - val_loss: 0.0632 - val_acc: 0.9874\n",
      "Epoch 6/12\n",
      "60000/60000 [==============================] - 78s 1ms/step - loss: 0.6742 - acc: 0.7358 - val_loss: 0.0671 - val_acc: 0.9892\n",
      "Epoch 7/12\n",
      "60000/60000 [==============================] - 78s 1ms/step - loss: 0.6613 - acc: 0.7451 - val_loss: 0.0665 - val_acc: 0.9872\n",
      "Epoch 8/12\n",
      "60000/60000 [==============================] - 78s 1ms/step - loss: 0.6409 - acc: 0.7548 - val_loss: 0.0715 - val_acc: 0.9885\n",
      "Epoch 9/12\n",
      "60000/60000 [==============================] - 78s 1ms/step - loss: 0.6385 - acc: 0.7573 - val_loss: 0.0717 - val_acc: 0.9866\n",
      "Epoch 10/12\n",
      "60000/60000 [==============================] - 78s 1ms/step - loss: 0.6399 - acc: 0.7582 - val_loss: 0.0549 - val_acc: 0.9894\n",
      "Epoch 11/12\n",
      "60000/60000 [==============================] - 78s 1ms/step - loss: 0.6261 - acc: 0.7657 - val_loss: 0.0603 - val_acc: 0.9897\n",
      "Epoch 12/12\n",
      "60000/60000 [==============================] - 78s 1ms/step - loss: 0.6189 - acc: 0.7696 - val_loss: 0.0623 - val_acc: 0.9892\n",
      "Test loss: 0.062323937116935846\n",
      "Test accuracy: 0.9892\n"
     ]
    }
   ],
   "source": [
    "history = model.fit(x_train, y_train,\n",
    "          batch_size=batch_size,\n",
    "          epochs=epochs,\n",
    "          verbose=1,\n",
    "          validation_data=(x_test, y_test))\n",
    "score = model.evaluate(x_test, y_test, verbose=0)\n",
    "print('Test loss:', score[0])\n",
    "print('Test accuracy:', score[1])"
   ]
  },
  {
   "cell_type": "code",
   "execution_count": 19,
   "metadata": {
    "colab": {
     "base_uri": "https://localhost:8080/",
     "height": 361
    },
    "colab_type": "code",
    "id": "t13a3DDNUlaV",
    "outputId": "3a686dc5-91e2-4f0c-ed94-e4230b9c2b62"
   },
   "outputs": [
    {
     "data": {
      "image/png": "[encoded data removed]",
      "text/plain": [
       "<Figure size 576x396 with 1 Axes>"
      ]
     },
     "metadata": {
      "tags": []
     },
     "output_type": "display_data"
    }
   ],
   "source": [
    "fig,ax = plt.subplots(1,1)\n",
    "ax.set_xlabel('epoch') ; ax.set_ylabel('Categorical Crossentropy Loss')\n",
    "\n",
    "# list of epoch numbers\n",
    "x = list(range(1,epochs+1))\n",
    "vy = history.history['val_loss']\n",
    "ty = history.history['loss']\n",
    "plt_dynamic(x, vy, ty, ax)"
   ]
  },
  {
   "cell_type": "raw",
   "metadata": {},
   "source": [
    "Observation: As number of epochs increases overfitting not that much reduces as in 3 convolutional layer."
   ]
  },
  {
   "cell_type": "markdown",
   "metadata": {
    "colab_type": "text",
    "id": "0U1x4Pf5eQNi"
   },
   "source": [
    "**Conclusion:**"
   ]
  },
  {
   "cell_type": "code",
   "execution_count": 21,
   "metadata": {
    "colab": {
     "base_uri": "https://localhost:8080/",
     "height": 136
    },
    "colab_type": "code",
    "id": "156FueXheT77",
    "outputId": "edacf411-915c-4506-ec9d-e9fc0cc47fc7"
   },
   "outputs": [
    {
     "name": "stdout",
     "output_type": "stream",
     "text": [
      "+---------------------------------+----------+----------------------+\n",
      "|              MOdel              | Test AUC |      Test Loss       |\n",
      "+---------------------------------+----------+----------------------+\n",
      "|  Model 1: 3 convolutional layer |  98.88%  | 0.03899886542790646  |\n",
      "|  Model 2: 5 convolutional layer |  98.86%  | 0.15232067085504533  |\n",
      "|  Model 3: 7 convolutional layer |  98.92%  | 0.062323937116935846 |\n",
      "+---------------------------------+----------+----------------------+\n"
     ]
    }
   ],
   "source": [
    "from prettytable import PrettyTable\n",
    "    \n",
    "x = PrettyTable()\n",
    "\n",
    "x.field_names = [\"MOdel\",\"Test AUC\",\"Test Loss\"]\n",
    "\n",
    "x.add_row([\" Model 1: 3 convolutional layer\",\"98.88%\",\"0.03899886542790646\"])\n",
    "x.add_row([\"Model 2: 5 convolutional layer\",\"98.86%\",\"0.15232067085504533\"])\n",
    "x.add_row([\"Model 3: 7 convolutional layer\",\"98.92%\",\"0.062323937116935846\"])\n",
    "\n",
    "\n",
    "print(x)"
   ]
  },
  {
   "cell_type": "markdown",
   "metadata": {
    "colab_type": "text",
    "id": "Vih-Tb1RjEaO"
   },
   "source": [
    "\n",
    "1) As number of layers increases accuracy increases.\n",
    "2) Test loss very loss in 3 convolutional layer.\n"
   ]
  },
  {
   "cell_type": "code",
   "execution_count": 0,
   "metadata": {
    "colab": {},
    "colab_type": "code",
    "id": "SnagkPL3jKSx"
   },
   "outputs": [],
   "source": []
  }
 ],
 "metadata": {
  "accelerator": "GPU",
  "colab": {
   "collapsed_sections": [],
   "name": "MNIST Dataset using CNN.ipynb",
   "provenance": [],
   "version": "0.3.2"
  },
  "kernelspec": {
   "display_name": "Python 3",
   "language": "python",
   "name": "python3"
  },
  "language_info": {
   "codemirror_mode": {
    "name": "ipython",
    "version": 3
   },
   "file_extension": ".py",
   "mimetype": "text/x-python",
   "name": "python",
   "nbconvert_exporter": "python",
   "pygments_lexer": "ipython3",
   "version": "3.6.7"
  }
 },
 "nbformat": 4,
 "nbformat_minor": 1
}
